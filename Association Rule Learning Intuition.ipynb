{
 "cells": [
  {
   "cell_type": "markdown",
   "metadata": {},
   "source": [
    "# **ASSOCIATION RULE LEARNING INTUITION**\n",
    "**ASSOCIATION RULE LEARNING**    \n",
    "“People who bought also bought….”    \n",
    "\n",
    "1.\tApriori    \n",
    "a.\tSupport    \n",
    "b.\tConfidence    \n",
    "c.\tLift    \n",
    "2.\tEclat     \n",
    "a.\tSupport Only    \n",
    "\n",
    "**RECOMMENDER SYSTEMS**    \n",
    "\n",
    "**USER-BASED COLLABORATIVE FILTERING**    \n",
    "\tRecommend items based on what people similar to you liked  \n",
    "•\tBuild a matrix of things each user bought/ viewed/rated (signal of interest)  \n",
    "•\tCompute similarity scores between users  \n",
    "•\tFind users similar to you  \n",
    "•\tRecommend stuff they bought/viewed/rated that you haven’t yet  \n",
    "•\tProblems with User-Based CF  \n",
    "o\tPeople are fickle; tastes change  \n",
    "o\tThere are usually many more people than things  \n",
    "o\tPeople do bad things  \n",
    "\n",
    "\n",
    "**ITEM BASED COLLABORATIVE FILTERING (AMAZON)**    \n",
    "Looking at relationships between items  \n",
    "•\tA movie will always be the same movie – it doesn’t change  \n",
    "•\tThere are usually fewer things than people (less computation to do)  \n",
    "•\tHarder to game the system  \n",
    "o\tBase behavior on what people actually bought  \n",
    "•\tCompute similarity of two movies based on the ratings of people who watched both movies  \n",
    "•\tSort by movie, then by similarity strength  "
   ]
  }
 ],
 "metadata": {
  "kernelspec": {
   "display_name": "Python 3",
   "language": "python",
   "name": "python3"
  },
  "language_info": {
   "codemirror_mode": {
    "name": "ipython",
    "version": 3
   },
   "file_extension": ".py",
   "mimetype": "text/x-python",
   "name": "python",
   "nbconvert_exporter": "python",
   "pygments_lexer": "ipython3",
   "version": "3.6.1"
  }
 },
 "nbformat": 4,
 "nbformat_minor": 2
}
